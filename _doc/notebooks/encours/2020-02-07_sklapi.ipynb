{
 "cells": [
  {
   "cell_type": "markdown",
   "metadata": {},
   "source": [
    "# Régression Ridge, Lasso et nouvel estimateur\n",
    "\n",
    "Ce notebook présente la régression Ridge, Lasso, et l'API de scikit-learn. Il explique plus en détail pourquoi la régression Lasso contraint les coefficients de la régression à s'annuler."
   ]
  },
  {
   "cell_type": "code",
   "execution_count": 1,
   "metadata": {},
   "outputs": [
    {
     "data": {
      "text/html": [
       "<div id=\"my_id_menu_nb\">run previous cell, wait for 2 seconds</div>\n",
       "<script>\n",
       "function repeat_indent_string(n){\n",
       "    var a = \"\" ;\n",
       "    for ( ; n > 0 ; --n)\n",
       "        a += \"    \";\n",
       "    return a;\n",
       "}\n",
       "// look up into all sections and builds an automated menu //\n",
       "var update_menu_string = function(begin, lfirst, llast, sformat, send, keep_item, begin_format, end_format) {\n",
       "    var anchors = document.getElementsByClassName(\"section\");\n",
       "    if (anchors.length == 0) {\n",
       "        anchors = document.getElementsByClassName(\"text_cell_render rendered_html\");\n",
       "    }\n",
       "    var i,t;\n",
       "    var text_menu = begin;\n",
       "    var text_memo = \"<pre>\\nlength:\" + anchors.length + \"\\n\";\n",
       "    var ind = \"\";\n",
       "    var memo_level = 1;\n",
       "    var href;\n",
       "    var tags = [];\n",
       "    var main_item = 0;\n",
       "    var format_open = 0;\n",
       "    for (i = 0; i <= llast; i++)\n",
       "        tags.push(\"h\" + i);\n",
       "\n",
       "    for (i = 0; i < anchors.length; i++) {\n",
       "        text_memo += \"**\" + anchors[i].id + \"--\\n\";\n",
       "\n",
       "        var child = null;\n",
       "        for(t = 0; t < tags.length; t++) {\n",
       "            var r = anchors[i].getElementsByTagName(tags[t]);\n",
       "            if (r.length > 0) {\n",
       "child = r[0];\n",
       "break;\n",
       "            }\n",
       "        }\n",
       "        if (child == null) {\n",
       "            text_memo += \"null\\n\";\n",
       "            continue;\n",
       "        }\n",
       "        if (anchors[i].hasAttribute(\"id\")) {\n",
       "            // when converted in RST\n",
       "            href = anchors[i].id;\n",
       "            text_memo += \"#1-\" + href;\n",
       "            // passer à child suivant (le chercher)\n",
       "        }\n",
       "        else if (child.hasAttribute(\"id\")) {\n",
       "            // in a notebook\n",
       "            href = child.id;\n",
       "            text_memo += \"#2-\" + href;\n",
       "        }\n",
       "        else {\n",
       "            text_memo += \"#3-\" + \"*\" + \"\\n\";\n",
       "            continue;\n",
       "        }\n",
       "        var title = child.textContent;\n",
       "        var level = parseInt(child.tagName.substring(1,2));\n",
       "\n",
       "        text_memo += \"--\" + level + \"?\" + lfirst + \"--\" + title + \"\\n\";\n",
       "\n",
       "        if ((level < lfirst) || (level > llast)) {\n",
       "            continue ;\n",
       "        }\n",
       "        if (title.endsWith('¶')) {\n",
       "            title = title.substring(0,title.length-1).replace(\"<\", \"&lt;\")\n",
       "         .replace(\">\", \"&gt;\").replace(\"&\", \"&amp;\");\n",
       "        }\n",
       "        if (title.length == 0) {\n",
       "            continue;\n",
       "        }\n",
       "\n",
       "        while (level < memo_level) {\n",
       "            text_menu += end_format + \"</ul>\\n\";\n",
       "            format_open -= 1;\n",
       "            memo_level -= 1;\n",
       "        }\n",
       "        if (level == lfirst) {\n",
       "            main_item += 1;\n",
       "        }\n",
       "        if (keep_item != -1 && main_item != keep_item + 1) {\n",
       "            // alert(main_item + \" - \" + level + \" - \" + keep_item);\n",
       "            continue;\n",
       "        }\n",
       "        while (level > memo_level) {\n",
       "            text_menu += \"<ul>\\n\";\n",
       "            memo_level += 1;\n",
       "        }\n",
       "        text_menu += repeat_indent_string(level-2);\n",
       "        text_menu += begin_format + sformat.replace(\"__HREF__\", href).replace(\"__TITLE__\", title);\n",
       "        format_open += 1;\n",
       "    }\n",
       "    while (1 < memo_level) {\n",
       "        text_menu += end_format + \"</ul>\\n\";\n",
       "        memo_level -= 1;\n",
       "        format_open -= 1;\n",
       "    }\n",
       "    text_menu += send;\n",
       "    //text_menu += \"\\n\" + text_memo;\n",
       "\n",
       "    while (format_open > 0) {\n",
       "        text_menu += end_format;\n",
       "        format_open -= 1;\n",
       "    }\n",
       "    return text_menu;\n",
       "};\n",
       "var update_menu = function() {\n",
       "    var sbegin = \"\";\n",
       "    var sformat = '<a href=\"#__HREF__\">__TITLE__</a>';\n",
       "    var send = \"\";\n",
       "    var begin_format = '<li>';\n",
       "    var end_format = '</li>';\n",
       "    var keep_item = -1;\n",
       "    var text_menu = update_menu_string(sbegin, 2, 4, sformat, send, keep_item,\n",
       "       begin_format, end_format);\n",
       "    var menu = document.getElementById(\"my_id_menu_nb\");\n",
       "    menu.innerHTML=text_menu;\n",
       "};\n",
       "window.setTimeout(update_menu,2000);\n",
       "            </script>"
      ],
      "text/plain": [
       "<IPython.core.display.HTML object>"
      ]
     },
     "execution_count": 1,
     "metadata": {},
     "output_type": "execute_result"
    }
   ],
   "source": [
    "from jyquickhelper import add_notebook_menu\n",
    "add_notebook_menu()"
   ]
  },
  {
   "cell_type": "code",
   "execution_count": 2,
   "metadata": {},
   "outputs": [],
   "source": [
    "%matplotlib inline"
   ]
  },
  {
   "cell_type": "markdown",
   "metadata": {},
   "source": [
    "## Un jeu de données pour un problème de régression"
   ]
  },
  {
   "cell_type": "code",
   "execution_count": 3,
   "metadata": {},
   "outputs": [],
   "source": [
    "from sklearn.datasets import load_diabetes\n",
    "data = load_diabetes()\n",
    "X, y = data.data, data.target / 10"
   ]
  },
  {
   "cell_type": "markdown",
   "metadata": {},
   "source": [
    "`/ 10` ou normaliser pour éviter les problèmes numériques lors que l'optimisation."
   ]
  },
  {
   "cell_type": "code",
   "execution_count": 4,
   "metadata": {},
   "outputs": [],
   "source": [
    "from sklearn.model_selection import train_test_split\n",
    "X_train, X_test, y_train, y_test = train_test_split(X, y)"
   ]
  },
  {
   "cell_type": "markdown",
   "metadata": {},
   "source": [
    "On apprend la première régression linéaire."
   ]
  },
  {
   "cell_type": "code",
   "execution_count": 5,
   "metadata": {},
   "outputs": [
    {
     "data": {
      "text/plain": [
       "array([ -1.85601658, -26.87675858,  52.51732752,  32.38651524,\n",
       "       -64.19320341,  27.09717642,   8.31587784,  25.09987118,\n",
       "        65.75799437,  11.66015126])"
      ]
     },
     "execution_count": 5,
     "metadata": {},
     "output_type": "execute_result"
    }
   ],
   "source": [
    "from sklearn.linear_model import LinearRegression\n",
    "lin = LinearRegression()\n",
    "lin.fit(X_train, y_train)\n",
    "lin.coef_"
   ]
  },
  {
   "cell_type": "code",
   "execution_count": 6,
   "metadata": {},
   "outputs": [
    {
     "data": {
      "text/plain": [
       "0.481884247676001"
      ]
     },
     "execution_count": 6,
     "metadata": {},
     "output_type": "execute_result"
    }
   ],
   "source": [
    "from sklearn.metrics import r2_score\n",
    "r2_score(y_test, lin.predict(X_test))"
   ]
  },
  {
   "cell_type": "markdown",
   "metadata": {},
   "source": [
    "## Régression Ridge\n",
    "\n",
    "La régression [Ridge](https://scikit-learn.org/stable/modules/generated/sklearn.linear_model.Ridge.html) optimise le problème qui suit :\n",
    "\n",
    "$$\\min_\\beta E(\\alpha, \\beta) = \\sum_{i=1}^n (y_i - X_i\\beta)^2 + \\alpha \\lVert \\beta \\rVert ^2$$\n",
    "\n",
    "C'est une régression linéaire avec une contrainte quadratique sur les coefficients. C'est utile lorsque les variables sont très corrélées, ce qui fausse souvent la résolution numérique. La solution peut s'exprimer de façon exacte.\n",
    "\n",
    "$$\\beta^* = (X'X + \\alpha I)^{-1} X' Y$$\n",
    "\n",
    "On voit qu'il est possible de choisir un $\\alpha$ pour lequel la matrice $X'X + \\alpha I$ est inversible. C'est aussi utile lorsqu'il y a beaucoup de variables car la probabilité d'avoir des variables corrélées est grande. Il est possible de choisir un $\\alpha$ suffisamment grand pour que la matrice $ (X'X + \\alpha I)^{-1}$ soit inversible et la solution unique."
   ]
  },
  {
   "cell_type": "code",
   "execution_count": 7,
   "metadata": {},
   "outputs": [
    {
     "data": {
      "text/plain": [
       "0.08787659718647478"
      ]
     },
     "execution_count": 7,
     "metadata": {},
     "output_type": "execute_result"
    }
   ],
   "source": [
    "from sklearn.linear_model import Ridge\n",
    "rid = Ridge(10).fit(X_train, y_train)\n",
    "r2_score(y_test, rid.predict(X_test))"
   ]
  },
  {
   "cell_type": "code",
   "execution_count": 8,
   "metadata": {},
   "outputs": [
    {
     "data": {
      "text/plain": [
       "(0.5131706866748321, 0.15127384319545023)"
      ]
     },
     "execution_count": 8,
     "metadata": {},
     "output_type": "execute_result"
    }
   ],
   "source": [
    "(r2_score(y_train, lin.predict(X_train)), \n",
    " r2_score(y_train, rid.predict(X_train)))"
   ]
  },
  {
   "cell_type": "markdown",
   "metadata": {},
   "source": [
    "La contrainte introduite sur les coefficients augmente l'erreur sur la base d'apprentissage mais réduit la norme des coefficients."
   ]
  },
  {
   "cell_type": "code",
   "execution_count": 9,
   "metadata": {},
   "outputs": [
    {
     "data": {
      "image/png": "[encoded data removed]",
      "text/plain": [
       "<Figure size 288x288 with 1 Axes>"
      ]
     },
     "metadata": {
      "needs_background": "light"
     },
     "output_type": "display_data"
    }
   ],
   "source": [
    "import numpy\n",
    "import matplotlib.pyplot as plt\n",
    "r = numpy.abs(lin.coef_) / numpy.abs(rid.coef_)\n",
    "fig, ax = plt.subplots(1, 1, figsize=(4, 4))\n",
    "ax.plot(r)\n",
    "ax.set_title(\"Ratio des coefficients\\npour une régression Ridge\");"
   ]
  },
  {
   "cell_type": "markdown",
   "metadata": {},
   "source": [
    "Un des coefficients est 10 fois plus grand et la norme des coefficients est plus petite."
   ]
  },
  {
   "cell_type": "code",
   "execution_count": 10,
   "metadata": {},
   "outputs": [
    {
     "data": {
      "text/plain": [
       "(120.61100965823518, 11.521828630313518)"
      ]
     },
     "execution_count": 10,
     "metadata": {},
     "output_type": "execute_result"
    }
   ],
   "source": [
    "numpy.linalg.norm(lin.coef_), numpy.linalg.norm(rid.coef_)"
   ]
  },
  {
   "cell_type": "markdown",
   "metadata": {},
   "source": [
    "De fait, il est préféreable de normaliser les variables avant d'appliquer la contrainte."
   ]
  },
  {
   "cell_type": "code",
   "execution_count": 11,
   "metadata": {},
   "outputs": [
    {
     "data": {
      "text/plain": [
       "0.47199486845157335"
      ]
     },
     "execution_count": 11,
     "metadata": {},
     "output_type": "execute_result"
    }
   ],
   "source": [
    "rid = Ridge(0.2).fit(X_train, y_train)\n",
    "r2_score(y_test, rid.predict(X_test))"
   ]
  },
  {
   "cell_type": "code",
   "execution_count": 12,
   "metadata": {},
   "outputs": [
    {
     "data": {
      "text/plain": [
       "(120.61100965823518, 71.97787365561571)"
      ]
     },
     "execution_count": 12,
     "metadata": {},
     "output_type": "execute_result"
    }
   ],
   "source": [
    "numpy.linalg.norm(lin.coef_), numpy.linalg.norm(rid.coef_)"
   ]
  },
  {
   "cell_type": "markdown",
   "metadata": {},
   "source": [
    "## Régression Lasso\n",
    "\n",
    "La régression [Lasso](https://scikit-learn.org/stable/modules/generated/sklearn.linear_model.Lasso.html) optimise le problème qui suit :\n",
    "\n",
    "$$\\min_\\beta E(\\alpha, \\beta) = \\sum_{i=1}^n (y_i - X_i\\beta)^2 + \\alpha \\lVert \\beta \\rVert$$\n",
    "\n",
    "C'est une régression linéaire avec une contrainte linéaire sur les coefficients. C'est utile lorsque les variables sont très corrélées, ce qui fausse souvent la résolution numérique. La solution ne s'exprime de façon exacte et la résolution utilise une méthode à base de gradient."
   ]
  },
  {
   "cell_type": "code",
   "execution_count": 13,
   "metadata": {},
   "outputs": [
    {
     "data": {
      "text/plain": [
       "array([ 0.,  0.,  0.,  0.,  0.,  0., -0.,  0.,  0.,  0.])"
      ]
     },
     "execution_count": 13,
     "metadata": {},
     "output_type": "execute_result"
    }
   ],
   "source": [
    "from sklearn.linear_model import Lasso\n",
    "las = Lasso(5.).fit(X_train, y_train)\n",
    "las.coef_"
   ]
  },
  {
   "cell_type": "markdown",
   "metadata": {},
   "source": [
    "On voit que beaucoup de coefficients sont nuls."
   ]
  },
  {
   "cell_type": "code",
   "execution_count": 14,
   "metadata": {},
   "outputs": [
    {
     "data": {
      "text/plain": [
       "array([ True,  True,  True,  True,  True,  True,  True,  True,  True,\n",
       "        True])"
      ]
     },
     "execution_count": 14,
     "metadata": {},
     "output_type": "execute_result"
    }
   ],
   "source": [
    "las.coef_ == 0"
   ]
  },
  {
   "cell_type": "code",
   "execution_count": 15,
   "metadata": {},
   "outputs": [
    {
     "data": {
      "text/plain": [
       "10"
      ]
     },
     "execution_count": 15,
     "metadata": {},
     "output_type": "execute_result"
    }
   ],
   "source": [
    "sum(las.coef_ == 0)"
   ]
  },
  {
   "cell_type": "markdown",
   "metadata": {},
   "source": [
    "Comme pour la régression Ridge, il est préférable de normaliser. On étudie également le nombre de coefficients nuls en fonction de la valeur $\\alpha$."
   ]
  },
  {
   "cell_type": "code",
   "execution_count": 16,
   "metadata": {},
   "outputs": [
    {
     "name": "stderr",
     "output_type": "stream",
     "text": [
      "100%|██████████| 18/18 [00:00<00:00, 482.13it/s]\n"
     ]
    },
    {
     "data": {
      "text/html": [
       "<div>\n",
       "<style scoped>\n",
       "    .dataframe tbody tr th:only-of-type {\n",
       "        vertical-align: middle;\n",
       "    }\n",
       "\n",
       "    .dataframe tbody tr th {\n",
       "        vertical-align: top;\n",
       "    }\n",
       "\n",
       "    .dataframe thead th {\n",
       "        text-align: right;\n",
       "    }\n",
       "</style>\n",
       "<table border=\"1\" class=\"dataframe\">\n",
       "  <thead>\n",
       "    <tr style=\"text-align: right;\">\n",
       "      <th></th>\n",
       "      <th>lambda</th>\n",
       "      <th>r2</th>\n",
       "      <th>nbnull</th>\n",
       "    </tr>\n",
       "  </thead>\n",
       "  <tbody>\n",
       "    <tr>\n",
       "      <th>0</th>\n",
       "      <td>0.00001</td>\n",
       "      <td>0.481844</td>\n",
       "      <td>0</td>\n",
       "    </tr>\n",
       "    <tr>\n",
       "      <th>1</th>\n",
       "      <td>0.00010</td>\n",
       "      <td>0.481440</td>\n",
       "      <td>0</td>\n",
       "    </tr>\n",
       "    <tr>\n",
       "      <th>2</th>\n",
       "      <td>0.00500</td>\n",
       "      <td>0.487357</td>\n",
       "      <td>2</td>\n",
       "    </tr>\n",
       "    <tr>\n",
       "      <th>3</th>\n",
       "      <td>0.01000</td>\n",
       "      <td>0.488860</td>\n",
       "      <td>2</td>\n",
       "    </tr>\n",
       "    <tr>\n",
       "      <th>4</th>\n",
       "      <td>0.01500</td>\n",
       "      <td>0.488398</td>\n",
       "      <td>3</td>\n",
       "    </tr>\n",
       "  </tbody>\n",
       "</table>\n",
       "</div>"
      ],
      "text/plain": [
       "    lambda        r2  nbnull\n",
       "0  0.00001  0.481844       0\n",
       "1  0.00010  0.481440       0\n",
       "2  0.00500  0.487357       2\n",
       "3  0.01000  0.488860       2\n",
       "4  0.01500  0.488398       3"
      ]
     },
     "execution_count": 16,
     "metadata": {},
     "output_type": "execute_result"
    }
   ],
   "source": [
    "from tqdm import tqdm\n",
    "res = []\n",
    "for alf in tqdm([0.00001, 0.0001, 0.005, 0.01, 0.015, \n",
    "                 0.02, 0.025, 0.03, 0.04, 0.05, 0.06,\n",
    "                 0.07, 0.08, 0.09, 0.1, 0.2, 0.3, 0.4]):\n",
    "    las = Lasso(alf).fit(X_train, y_train)\n",
    "    r2 = r2_score(y_test, las.predict(X_test))\n",
    "    res.append({'lambda': alf, 'r2': r2, \n",
    "                'nbnull': sum(las.coef_ == 0)})\n",
    "\n",
    "    \n",
    "from pandas import DataFrame\n",
    "df = DataFrame(res)\n",
    "df.head(5)"
   ]
  },
  {
   "cell_type": "code",
   "execution_count": 17,
   "metadata": {},
   "outputs": [
    {
     "data": {
      "image/png": "[encoded data removed]",
      "text/plain": [
       "<Figure size 576x216 with 2 Axes>"
      ]
     },
     "metadata": {
      "needs_background": "light"
     },
     "output_type": "display_data"
    }
   ],
   "source": [
    "fig, ax = plt.subplots(1, 2, figsize=(8, 3))\n",
    "ax[0].plot(df['lambda'], df['r2'], label='r2')\n",
    "ax[1].plot(df['lambda'], df['nbnull'], label=\"nbnull\")\n",
    "ax[1].plot(df['lambda'], las.coef_.shape[0] - df['nbnull'], label=\"nbvar\")\n",
    "ax[0].set_xscale('log'); ax[1].set_xscale('log')\n",
    "ax[0].set_xlabel(\"lambda\"); ax[1].set_xlabel(\"lambda\")\n",
    "ax[0].legend(); ax[1].legend();"
   ]
  },
  {
   "cell_type": "markdown",
   "metadata": {},
   "source": [
    "La régression Lasso annule les coefficients, voire tous les coefficients si le paramètre $\\alpha$ est assez grand. Voyons cela pour une régression avec une seule variable. On doit minimiser l'expression :\n",
    "\n",
    "$$E(\\beta) = \\sum_{i=1}^n (y_i - \\beta x_i)^2 + \\alpha |\\beta|$$\n",
    "\n",
    "Trouver $\\beta^*$ qui minimise l'expression nécessite de trouver le paramètre $\\beta$ tel que $E(\\beta)=0$. On calcule la dérivée $E'(\\beta)$ :\n",
    "\n",
    "$$E'(\\beta) = \\left \\{ \\begin{array}{ll} \\sum_{i=1}^n -x_i(y_i - \\beta x_i) + \\alpha & \\text{si } \\beta > 0 \\\\ \\sum_{i=1}^n -x_i(y_i - \\beta x_i) - \\alpha & \\text{si } \\beta < 0 \\end{array} \\right .$$\n",
    "\n",
    "Et :\n",
    "\n",
    "$$E'(\\beta) = 0 \\Leftrightarrow \\left \\{ \\begin{array}{ll} \\beta = \\frac{-\\alpha + \\sum_{i=1}^n x_i y_i}{\\sum_{i=1}^n{x_i^2}} & \\text{si } \\beta > 0 \\\\ \\beta = \\frac{\\alpha + \\sum_{i=1}^n x_i y_i}{\\sum_{i=1}^n{x_i^2}}  & \\text{si } \\beta < 0 \\end{array} \\right .$$\n",
    "\n",
    "On voit que pour une grande valeur de $\\alpha > \\sum_i x_i y_i$, le paramètre $\\beta$ n'a pas de solution. Dans le premier cas, la valeur est nécessairement négative alors que la solution ne fonctionne que si $\\beta$ est positive. C'est la même situation contradictoire dans l'autre cas. La seule option possible lorsque $\\alpha$ est très grand, c'est $\\beta = 0$. On montre donc que ce qu'on a observé ci-dessus est vrai pour une régression à une dimension."
   ]
  },
  {
   "cell_type": "markdown",
   "metadata": {},
   "source": [
    "## Application à la sélection d'arbre d'une forêt aléatoire\n",
    "\n",
    "Une forêt aléatoire est simplement une moyenne des prédictions d'arbres de régression.\n",
    "\n",
    "$$RF(X) = \\sum_{i=1}^p T_i(X)$$\n",
    "\n",
    "Pourquoi ne pas utiliser une régression Lasso pour réduire le nombre d'arbres et exprimer la forêt aléatoire avec des coefficients $\\beta$ estimés à l'aide d'une régression Lasso et choisis de telle sorte que beaucoup soient nuls.\n",
    "\n",
    "$$RF(X) = \\sum_{i=1}^p \\beta_i T_i(X)$$"
   ]
  },
  {
   "cell_type": "code",
   "execution_count": 18,
   "metadata": {},
   "outputs": [],
   "source": [
    "from sklearn.ensemble import RandomForestRegressor\n",
    "rf = RandomForestRegressor(100).fit(X_train, y_train)"
   ]
  },
  {
   "cell_type": "markdown",
   "metadata": {},
   "source": [
    "La prédiction d'un arbre s'obtient avec :"
   ]
  },
  {
   "cell_type": "code",
   "execution_count": 19,
   "metadata": {},
   "outputs": [
    {
     "data": {
      "text/plain": [
       "array([ 6.4, 34.1,  8.8,  8.5,  6.5,  9. , 11.5,  9.9,  5.1, 27.5,  5.9,\n",
       "       34.6, 12.3, 18.3,  5.1,  6.5, 27.7, 25.8,  9.4,  9.6, 16.3,  8.3,\n",
       "       27.7,  8.5,  6.4, 14. ,  6.7, 17.4, 28.1, 14. ,  8.5, 27.5, 18. ,\n",
       "       14.8,  7.2, 10.2, 16.8,  6.7, 18.1, 16.8,  9.4, 27.7,  6.8, 16.3,\n",
       "       28.1, 34.6, 18.1,  9.6, 10.2, 25.9, 18. ,  5.9, 17.5, 16.4, 18. ,\n",
       "        9.6, 10.2, 11.1, 24.8, 17.4,  9.3,  5.1,  5.1,  5.9, 20.9,  9.5,\n",
       "        6.9, 11.5, 27.5, 10.2, 14. ,  5.1, 11.8, 10.3,  7.1, 20. , 27.7,\n",
       "       10.2, 14.4,  9.1,  5.9, 11.4, 12.8, 14. , 16.1,  5.5,  8.8, 18.3,\n",
       "        5.1, 29.3, 12.8, 18.5, 18.1,  6.4, 17.2,  8.5,  9.3,  9.3, 31.1,\n",
       "        9.7, 34.6, 14.3, 15.1, 13.1, 19.9, 29.3, 19.6,  6.6, 14.3, 31.1,\n",
       "       19.6])"
      ]
     },
     "execution_count": 19,
     "metadata": {},
     "output_type": "execute_result"
    }
   ],
   "source": [
    "rf.estimators_[0].predict(X_test)"
   ]
  },
  {
   "cell_type": "markdown",
   "metadata": {},
   "source": [
    "On construit une fonction qui concatène les prédictions des arbres."
   ]
  },
  {
   "cell_type": "code",
   "execution_count": 20,
   "metadata": {},
   "outputs": [
    {
     "data": {
      "text/plain": [
       "(111, 100)"
      ]
     },
     "execution_count": 20,
     "metadata": {},
     "output_type": "execute_result"
    }
   ],
   "source": [
    "def concatenate_prediction(X):\n",
    "    preds = []\n",
    "    for i in range(len(rf.estimators_)):\n",
    "        pred = rf.estimators_[i].predict(X)\n",
    "        preds.append(pred)\n",
    "    return numpy.vstack(preds).T\n",
    "\n",
    "concatenate_prediction(X_test).shape"
   ]
  },
  {
   "cell_type": "markdown",
   "metadata": {},
   "source": [
    "Et on observe la performance en fonction du paramètre $\\alpha$ de la régression Lasso."
   ]
  },
  {
   "cell_type": "code",
   "execution_count": 21,
   "metadata": {},
   "outputs": [
    {
     "name": "stderr",
     "output_type": "stream",
     "text": [
      "100%|██████████| 18/18 [00:01<00:00, 17.32it/s]\n"
     ]
    }
   ],
   "source": [
    "X_train_rf = concatenate_prediction(X_train)\n",
    "X_test_rf = concatenate_prediction(X_test)\n",
    "\n",
    "res = []\n",
    "for alf in tqdm([0.0001, 0.01, 0.1, 0.2, 0.5, 1., \n",
    "                 1.2, 1.5, 2., 4., 6., 8., 10., 12.,\n",
    "                 14, 16, 18, 20]):\n",
    "    las = Lasso(alf, max_iter=40000).fit(X_train_rf, y_train)\n",
    "    r2 = r2_score(y_test, las.predict(X_test_rf))\n",
    "    r2_rf = r2_score(y_test, rf.predict(X_test))\n",
    "    res.append({'lambda': alf, 'r2': r2, 'r2_rf': r2_rf,\n",
    "                'nbnull': sum(las.coef_ == 0)})"
   ]
  },
  {
   "cell_type": "code",
   "execution_count": 22,
   "metadata": {},
   "outputs": [
    {
     "data": {
      "text/html": [
       "<div>\n",
       "<style scoped>\n",
       "    .dataframe tbody tr th:only-of-type {\n",
       "        vertical-align: middle;\n",
       "    }\n",
       "\n",
       "    .dataframe tbody tr th {\n",
       "        vertical-align: top;\n",
       "    }\n",
       "\n",
       "    .dataframe thead th {\n",
       "        text-align: right;\n",
       "    }\n",
       "</style>\n",
       "<table border=\"1\" class=\"dataframe\">\n",
       "  <thead>\n",
       "    <tr style=\"text-align: right;\">\n",
       "      <th></th>\n",
       "      <th>lambda</th>\n",
       "      <th>r2</th>\n",
       "      <th>r2_rf</th>\n",
       "      <th>nbnull</th>\n",
       "    </tr>\n",
       "  </thead>\n",
       "  <tbody>\n",
       "    <tr>\n",
       "      <th>0</th>\n",
       "      <td>0.0001</td>\n",
       "      <td>0.379155</td>\n",
       "      <td>0.447083</td>\n",
       "      <td>0</td>\n",
       "    </tr>\n",
       "    <tr>\n",
       "      <th>1</th>\n",
       "      <td>0.0100</td>\n",
       "      <td>0.379568</td>\n",
       "      <td>0.447083</td>\n",
       "      <td>2</td>\n",
       "    </tr>\n",
       "    <tr>\n",
       "      <th>2</th>\n",
       "      <td>0.1000</td>\n",
       "      <td>0.387457</td>\n",
       "      <td>0.447083</td>\n",
       "      <td>22</td>\n",
       "    </tr>\n",
       "  </tbody>\n",
       "</table>\n",
       "</div>"
      ],
      "text/plain": [
       "   lambda        r2     r2_rf  nbnull\n",
       "0  0.0001  0.379155  0.447083       0\n",
       "1  0.0100  0.379568  0.447083       2\n",
       "2  0.1000  0.387457  0.447083      22"
      ]
     },
     "execution_count": 22,
     "metadata": {},
     "output_type": "execute_result"
    }
   ],
   "source": [
    "df = DataFrame(res)\n",
    "df.head(3)"
   ]
  },
  {
   "cell_type": "code",
   "execution_count": 23,
   "metadata": {
    "scrolled": false
   },
   "outputs": [
    {
     "data": {
      "image/png": "[encoded data removed]",
      "text/plain": [
       "<Figure size 576x216 with 2 Axes>"
      ]
     },
     "metadata": {
      "needs_background": "light"
     },
     "output_type": "display_data"
    }
   ],
   "source": [
    "fig, ax = plt.subplots(1, 2, figsize=(8, 3))\n",
    "ax[0].plot(df['lambda'], df['r2'], label='r2')\n",
    "ax[0].plot(df['lambda'], df['r2_rf'], label='r2_rf')\n",
    "ax[1].plot(df['lambda'], df['nbnull'], label=\"nbnull\")\n",
    "ax[1].plot(df['lambda'], las.coef_.shape[0] - df['nbnull'], label=\"nbvar\")\n",
    "ax[0].set_xscale('log'); ax[1].set_xscale('log')\n",
    "ax[0].legend(); ax[1].legend();"
   ]
  },
  {
   "cell_type": "markdown",
   "metadata": {},
   "source": [
    "## Explication géométrique de la nullité des coefficients dans une régression Lasso\n",
    "\n",
    "On se place dans le cas d'un modèle très simple : $y = \\alpha_1 x_1 + \\alpha_2 x_2 + \\epsilon$. Les coefficients optimaux sont obtenus en minimisant l'erreur $\\sum (y - (a_1 x_1 + a_2 x_2))^2 + \\lambda (|a_1| + |a_2|)$. On note $E(a_1, a_2) = E_r(a_1, a_2) + E_l(a_1, a_2)$. $E_r$ est l'erreur de régression, $E_l$ est l'erreur de Lasso. Les coefficients optimaux pour l'erreur $E_r$ sont $(a^*_1, a^*_2) = (\\alpha_1 x_1 + \\alpha_2)$. On représente maintenant sur un graphe les courbes de niveaux de ces deux erreurs. "
   ]
  },
  {
   "cell_type": "code",
   "execution_count": 24,
   "metadata": {},
   "outputs": [
    {
     "data": {
      "image/png": "[encoded data removed]",
      "text/plain": [
       "<Figure size 432x288 with 1 Axes>"
      ]
     },
     "metadata": {
      "needs_background": "light"
     },
     "output_type": "display_data"
    }
   ],
   "source": [
    "import math\n",
    "def xyl1(t): return t, numpy.minimum(1 - t, t + 1)\n",
    "def xyl2(t): return t, numpy.minimum(2.3 - t, t + 2.3)\n",
    "def xyl3(t): return t, 0.4 - t\n",
    "t = numpy.arange(1000) * 2 * math.pi / 1000\n",
    "t2 = numpy.arange(500) / 500 - 0.2\n",
    "fig, ax = plt.subplots(1, 1)\n",
    "#ax.text(0.35, 2.7, \"lambda1\")\n",
    "#ax.text(0.05, 2.5, \"lambda2\")\n",
    "ax.plot([0.66], [1.66], \"yo\", label=\"a^*\", ms=10)\n",
    "ax.plot([0.0], [1.], \"yo\", ms=10)\n",
    "ax.plot([0.0], [0.5], \"yo\", ms=10)\n",
    "#ax.plot([0.0], [2.5], \"yo\")\n",
    "ax.plot([0, 0], [0, 3], 'k--')\n",
    "ax.plot([0, 2], [0, 0], 'k--')\n",
    "ax.plot(numpy.cos(t) * 0.5 + 1, numpy.sin(t) * 0.5 + 2, \"g\", label=\"Er\")\n",
    "ax.plot(numpy.cos(t) * 2 ** 0.5 + 1, numpy.sin(t) * 2 ** 0.5 + 2, \"g\", lw=4)\n",
    "ax.plot(numpy.cos(t) * 1.8 + 1, numpy.sin(t) * 1.8 + 2, \"g\", lw=6)\n",
    "x, y = xyl1(t2); ax.plot(x, y, \"r\", label=\"El\")\n",
    "x, y = xyl2(t2); ax.plot(x, y, \"r\", lw=4)\n",
    "x, y = xyl3(t2-0.5); ax.plot(x, y, \"r--\", lw=2)\n",
    "ax.legend();"
   ]
  },
  {
   "cell_type": "markdown",
   "metadata": {},
   "source": [
    "$E_r$ reste constante sur un cercle. $E_l$ reste constante sur une droite. Le point optimal solution de la régression Ridge est sur la tangente entre le cercle et la droite. Lorsqu'on augmente $\\lambda$, il faut réduire l'erreur, donc passer sur une courbe de niveaux plus grande pour l'erreur $E_r$. Il arrive un moment où ce point tangent est situé sur un des axes. Ensuite, ce point tangent est situé de l'autre côté de l'axe et en annulant le coefficient $a_1$, on décroît à la fois $E_r$ et $E_l$. Vérifions numériquement sur une exemple en estimant les coefficients d'une régression Lasso en deux dimensions $y = a_1 X_1 + a_2 X_2 + \\epsilon$ et en faisant varier la paramètre $\\lambda$ de la contrainte."
   ]
  },
  {
   "cell_type": "code",
   "execution_count": 25,
   "metadata": {},
   "outputs": [
    {
     "name": "stderr",
     "output_type": "stream",
     "text": [
      "100%|██████████| 61/61 [00:00<00:00, 911.40it/s]\n"
     ]
    },
    {
     "data": {
      "image/png": "[encoded data removed]",
      "text/plain": [
       "<Figure size 1008x288 with 4 Axes>"
      ]
     },
     "metadata": {
      "needs_background": "light"
     },
     "output_type": "display_data"
    }
   ],
   "source": [
    "import warnings\n",
    "from sklearn.metrics import mean_squared_error\n",
    "import pandas\n",
    "\n",
    "X = numpy.random.randn(100, 2) + 1.\n",
    "X[:, 1] += 1.\n",
    "y = numpy.sum(X, axis=1) + X[:, 1] + numpy.random.randn(100) / 10\n",
    "\n",
    "def train_lasso(X, y, c):\n",
    "    with warnings.catch_warnings():\n",
    "        warnings.simplefilter(\"ignore\")\n",
    "        lasso = Lasso(c, fit_intercept=False)\n",
    "        lasso.fit(X, y)\n",
    "    Er = mean_squared_error(y, lasso.predict(X))\n",
    "    El = numpy.abs(lasso.coef_).sum() * c\n",
    "    return Er, El, lasso.coef_\n",
    "\n",
    "obs = []\n",
    "for i in tqdm(range(0, 61)):\n",
    "    c = i / 4.\n",
    "    Er, El, coef = train_lasso(X, y, c)\n",
    "    obs.append(dict(c=c, Er=Er, El=El, E=Er+El, a1=coef[0], a2=coef[1]))\n",
    "df = pandas.DataFrame(obs).set_index('c')\n",
    "\n",
    "fig, ax = plt.subplots(1, 4, figsize=(14, 4))\n",
    "ax[0].plot(X[:, 0], X[:, 1], '.', label='X')\n",
    "ax[0].set_title(\"Features\"); ax[0].set_xlabel(\"x1\"); ax[0].set_ylabel(\"x2\")\n",
    "df[[\"Er\", \"El\", \"E\"]].plot(ax=ax[1])\n",
    "ax[1].set_title(\"Errors\"); ax[1].set_xlabel(\"lambda\"); ax[1].set_ylabel(\"Errors\")\n",
    "df.plot.scatter(x=\"a1\", y=\"a2\", ax=ax[2])\n",
    "ax[2].set_title(\"Coefficients de la régression\")\n",
    "ax[2].set_xlabel(\"a1\"); ax[2].set_ylabel(\"a2\"); df[[\"a1\", \"a2\"]].plot(ax=ax[3])\n",
    "ax[3].set_title(\"Coefficients\"); ax[3].set_xlabel(\"lambda\"); ax[3].set_ylabel(\"Coefficients\");"
   ]
  },
  {
   "cell_type": "markdown",
   "metadata": {},
   "source": [
    "On retrouve numériquement le résultat énoncé ci-dessus."
   ]
  },
  {
   "cell_type": "markdown",
   "metadata": {},
   "source": [
    "## Validation croisée et API scikit-learn\n",
    "\n",
    "La validation croisée est simple à faire dans *scikit-learn* est simple à faire si le modèle suit l'API de *scikit-learn* mais ce n'est pas le cas avec notre nouveau modèle. C'est pourtant essentiel pour s'assurer que le modèle est robuste. Toutefois *scikit-learn* permet de créer de nouveau modèle à la sauce *sciki-learn*."
   ]
  },
  {
   "cell_type": "code",
   "execution_count": 26,
   "metadata": {},
   "outputs": [
    {
     "data": {
      "text/plain": [
       "0.3841390522646667"
      ]
     },
     "execution_count": 26,
     "metadata": {},
     "output_type": "execute_result"
    }
   ],
   "source": [
    "from sklearn.base import BaseEstimator, RegressorMixin\n",
    "\n",
    "class LassoRandomForestRegressor(BaseEstimator, RegressorMixin):\n",
    "    def __init__(self,\n",
    "                 # Lasso\n",
    "                 alpha=1.0, fit_intercept=True,\n",
    "                 precompute=False, copy_X=True, max_iter=1000,\n",
    "                 tol=1e-4, warm_start_lasso=False, positive=False,\n",
    "                 random_state=None, selection='cyclic',\n",
    "                 # RF \n",
    "                 n_estimators=100,\n",
    "                 criterion=\"squared_error\",\n",
    "                 max_depth=None,\n",
    "                 min_samples_split=2,\n",
    "                 min_samples_leaf=1,\n",
    "                 min_weight_fraction_leaf=0.,\n",
    "                 max_features=1.0,\n",
    "                 max_leaf_nodes=None,\n",
    "                 min_impurity_decrease=0.,\n",
    "                 bootstrap=True,\n",
    "                 oob_score=False,\n",
    "                 n_jobs=None,\n",
    "                 # random_state=None,\n",
    "                 verbose=0,\n",
    "                 warm_start_rf=False,\n",
    "                 ccp_alpha=0.0,\n",
    "                 max_samples=None):\n",
    "\n",
    "        # Lasso\n",
    "        self.alpha = alpha\n",
    "        self.fit_intercept = fit_intercept\n",
    "        self.precompute = precompute\n",
    "        self.copy_X = copy_X\n",
    "        self.max_iter = max_iter\n",
    "        self.tol = tol\n",
    "        self.warm_start_lasso = warm_start_lasso\n",
    "        self.positive = positive\n",
    "        self.random_state = random_state\n",
    "        self.selection = selection\n",
    "        # RF \n",
    "        self.n_estimators = n_estimators\n",
    "        self.criterion = criterion\n",
    "        self.max_depth = max_depth\n",
    "        self.min_samples_split = min_samples_split\n",
    "        self.min_samples_leaf = min_samples_leaf\n",
    "        self.min_weight_fraction_leaf = min_weight_fraction_leaf\n",
    "        self.max_features = max_features\n",
    "        self.max_leaf_nodes = max_leaf_nodes\n",
    "        self.min_impurity_decrease = min_impurity_decrease\n",
    "        self.bootstrap = bootstrap\n",
    "        self.oob_score = oob_score\n",
    "        self.n_jobs = n_jobs\n",
    "        self.random_state = random_state\n",
    "        self.verbose = verbose\n",
    "        self.warm_start_rf = warm_start_rf\n",
    "        self.ccp_alpha = ccp_alpha\n",
    "        self.max_samples = max_samples\n",
    "\n",
    "    def _concatenate_prediction(self, X):\n",
    "        preds = []\n",
    "        for i in range(len(self.rf_.estimators_)):\n",
    "            pred = self.rf_.estimators_[i].predict(X)\n",
    "            preds.append(pred)\n",
    "        return numpy.vstack(preds).T        \n",
    "        \n",
    "    def fit(self, X, y, sample_weight=None):\n",
    "        self.rf_ = RandomForestRegressor(\n",
    "            n_estimators=self.n_estimators, criterion=self.criterion,\n",
    "            max_depth=self.max_depth, min_samples_split=self.min_samples_split,\n",
    "            min_samples_leaf=self.min_samples_leaf,\n",
    "            min_weight_fraction_leaf=self.min_weight_fraction_leaf,\n",
    "            max_features=self.max_features, max_leaf_nodes=self.max_leaf_nodes,\n",
    "            min_impurity_decrease=self.min_impurity_decrease,\n",
    "            bootstrap=self.bootstrap,\n",
    "            oob_score=self.oob_score, n_jobs=self.n_jobs,\n",
    "            random_state=self.random_state, verbose=self.verbose,\n",
    "            warm_start=self.warm_start_rf, ccp_alpha=self.ccp_alpha,\n",
    "            max_samples=self.max_samples)\n",
    "        \n",
    "        self.rf_.fit(X, y, sample_weight=sample_weight)\n",
    "        X_rf = self._concatenate_prediction(X)\n",
    "        \n",
    "        self.lasso_ = Lasso(\n",
    "            alpha=self.alpha, max_iter=self.max_iter, fit_intercept=self.fit_intercept,\n",
    "            precompute=self.precompute, copy_X=self.copy_X,\n",
    "            tol=self.tol, warm_start=self.warm_start_lasso, positive=self.positive,\n",
    "            random_state=self.random_state, selection=self.selection)\n",
    "        \n",
    "        self.lasso_.fit(X_rf, y)\n",
    "        return self\n",
    "    \n",
    "    def predict(self, X):\n",
    "        X_rf = self._concatenate_prediction(X)\n",
    "        return self.lasso_.predict(X_rf)\n",
    "\n",
    "\n",
    "model = LassoRandomForestRegressor(\n",
    "            alpha=1, n_estimators=100, max_iter=10000)\n",
    "model.fit(X_train, y_train)\n",
    "pred = model.predict(X_test)\n",
    "r2_score(y_test, pred)"
   ]
  },
  {
   "cell_type": "markdown",
   "metadata": {},
   "source": [
    "Et la validation croisée  fut :"
   ]
  },
  {
   "cell_type": "code",
   "execution_count": 27,
   "metadata": {},
   "outputs": [
    {
     "data": {
      "text/plain": [
       "array([0.31294816, 0.26692181, 0.18796265, 0.48570352, 0.42128474])"
      ]
     },
     "execution_count": 27,
     "metadata": {},
     "output_type": "execute_result"
    }
   ],
   "source": [
    "from sklearn.model_selection import cross_val_score\n",
    "cross_val_score(model, X_train, y_train, cv=5)"
   ]
  },
  {
   "cell_type": "markdown",
   "metadata": {},
   "source": [
    "Ce n'est pas très robuste. Peut-être est-ce dû à l'ordre des données (un léger effet temporel)."
   ]
  },
  {
   "cell_type": "code",
   "execution_count": 28,
   "metadata": {},
   "outputs": [
    {
     "data": {
      "text/plain": [
       "array([0.03752275, 0.09378697, 0.62111807, 0.25086784, 0.33115676])"
      ]
     },
     "execution_count": 28,
     "metadata": {},
     "output_type": "execute_result"
    }
   ],
   "source": [
    "from sklearn.model_selection import ShuffleSplit\n",
    "cross_val_score(LassoRandomForestRegressor(\n",
    "                    n_estimators=100, alpha=10, max_iter=10000),\n",
    "                X_train, y_train, cv=ShuffleSplit(5))"
   ]
  },
  {
   "cell_type": "markdown",
   "metadata": {},
   "source": [
    "Pas beaucoup mieux. Le modèle n'est pas très robuste."
   ]
  },
  {
   "cell_type": "markdown",
   "metadata": {},
   "source": [
    "On essaye néanmoins de trouver les meilleurs paramètres à l'aide d'une grille de recherche."
   ]
  },
  {
   "cell_type": "code",
   "execution_count": 29,
   "metadata": {},
   "outputs": [
    {
     "name": "stdout",
     "output_type": "stream",
     "text": [
      "Fitting 5 folds for each of 24 candidates, totalling 120 fits\n"
     ]
    },
    {
     "data": {
      "text/html": [
       "<style>#sk-container-id-1 {color: black;background-color: white;}#sk-container-id-1 pre{padding: 0;}#sk-container-id-1 div.sk-toggleable {background-color: white;}#sk-container-id-1 label.sk-toggleable__label {cursor: pointer;display: block;width: 100%;margin-bottom: 0;padding: 0.3em;box-sizing: border-box;text-align: center;}#sk-container-id-1 label.sk-toggleable__label-arrow:before {content: \"▸\";float: left;margin-right: 0.25em;color: #696969;}#sk-container-id-1 label.sk-toggleable__label-arrow:hover:before {color: black;}#sk-container-id-1 div.sk-estimator:hover label.sk-toggleable__label-arrow:before {color: black;}#sk-container-id-1 div.sk-toggleable__content {max-height: 0;max-width: 0;overflow: hidden;text-align: left;background-color: #f0f8ff;}#sk-container-id-1 div.sk-toggleable__content pre {margin: 0.2em;color: black;border-radius: 0.25em;background-color: #f0f8ff;}#sk-container-id-1 input.sk-toggleable__control:checked~div.sk-toggleable__content {max-height: 200px;max-width: 100%;overflow: auto;}#sk-container-id-1 input.sk-toggleable__control:checked~label.sk-toggleable__label-arrow:before {content: \"▾\";}#sk-container-id-1 div.sk-estimator input.sk-toggleable__control:checked~label.sk-toggleable__label {background-color: #d4ebff;}#sk-container-id-1 div.sk-label input.sk-toggleable__control:checked~label.sk-toggleable__label {background-color: #d4ebff;}#sk-container-id-1 input.sk-hidden--visually {border: 0;clip: rect(1px 1px 1px 1px);clip: rect(1px, 1px, 1px, 1px);height: 1px;margin: -1px;overflow: hidden;padding: 0;position: absolute;width: 1px;}#sk-container-id-1 div.sk-estimator {font-family: monospace;background-color: #f0f8ff;border: 1px dotted black;border-radius: 0.25em;box-sizing: border-box;margin-bottom: 0.5em;}#sk-container-id-1 div.sk-estimator:hover {background-color: #d4ebff;}#sk-container-id-1 div.sk-parallel-item::after {content: \"\";width: 100%;border-bottom: 1px solid gray;flex-grow: 1;}#sk-container-id-1 div.sk-label:hover label.sk-toggleable__label {background-color: #d4ebff;}#sk-container-id-1 div.sk-serial::before {content: \"\";position: absolute;border-left: 1px solid gray;box-sizing: border-box;top: 0;bottom: 0;left: 50%;z-index: 0;}#sk-container-id-1 div.sk-serial {display: flex;flex-direction: column;align-items: center;background-color: white;padding-right: 0.2em;padding-left: 0.2em;position: relative;}#sk-container-id-1 div.sk-item {position: relative;z-index: 1;}#sk-container-id-1 div.sk-parallel {display: flex;align-items: stretch;justify-content: center;background-color: white;position: relative;}#sk-container-id-1 div.sk-item::before, #sk-container-id-1 div.sk-parallel-item::before {content: \"\";position: absolute;border-left: 1px solid gray;box-sizing: border-box;top: 0;bottom: 0;left: 50%;z-index: -1;}#sk-container-id-1 div.sk-parallel-item {display: flex;flex-direction: column;z-index: 1;position: relative;background-color: white;}#sk-container-id-1 div.sk-parallel-item:first-child::after {align-self: flex-end;width: 50%;}#sk-container-id-1 div.sk-parallel-item:last-child::after {align-self: flex-start;width: 50%;}#sk-container-id-1 div.sk-parallel-item:only-child::after {width: 0;}#sk-container-id-1 div.sk-dashed-wrapped {border: 1px dashed gray;margin: 0 0.4em 0.5em 0.4em;box-sizing: border-box;padding-bottom: 0.4em;background-color: white;}#sk-container-id-1 div.sk-label label {font-family: monospace;font-weight: bold;display: inline-block;line-height: 1.2em;}#sk-container-id-1 div.sk-label-container {text-align: center;}#sk-container-id-1 div.sk-container {/* jupyter's `normalize.less` sets `[hidden] { display: none; }` but bootstrap.min.css set `[hidden] { display: none !important; }` so we also need the `!important` here to be able to override the default hidden behavior on the sphinx rendered scikit-learn.org. See: https://github.com/scikit-learn/scikit-learn/issues/21755 */display: inline-block !important;position: relative;}#sk-container-id-1 div.sk-text-repr-fallback {display: none;}</style><div id=\"sk-container-id-1\" class=\"sk-top-container\"><div class=\"sk-text-repr-fallback\"><pre>GridSearchCV(estimator=LassoRandomForestRegressor(),\n",
       "             param_grid={&#x27;alpha&#x27;: [0.1, 0.5, 1.0, 2.0, 5.0, 10],\n",
       "                         &#x27;max_iter&#x27;: [10000],\n",
       "                         &#x27;n_estimators&#x27;: [10, 20, 50, 100]},\n",
       "             verbose=1)</pre><b>In a Jupyter environment, please rerun this cell to show the HTML representation or trust the notebook. <br />On GitHub, the HTML representation is unable to render, please try loading this page with nbviewer.org.</b></div><div class=\"sk-container\" hidden><div class=\"sk-item sk-dashed-wrapped\"><div class=\"sk-label-container\"><div class=\"sk-label sk-toggleable\"><input class=\"sk-toggleable__control sk-hidden--visually\" id=\"sk-estimator-id-1\" type=\"checkbox\" ><label for=\"sk-estimator-id-1\" class=\"sk-toggleable__label sk-toggleable__label-arrow\">GridSearchCV</label><div class=\"sk-toggleable__content\"><pre>GridSearchCV(estimator=LassoRandomForestRegressor(),\n",
       "             param_grid={&#x27;alpha&#x27;: [0.1, 0.5, 1.0, 2.0, 5.0, 10],\n",
       "                         &#x27;max_iter&#x27;: [10000],\n",
       "                         &#x27;n_estimators&#x27;: [10, 20, 50, 100]},\n",
       "             verbose=1)</pre></div></div></div><div class=\"sk-parallel\"><div class=\"sk-parallel-item\"><div class=\"sk-item\"><div class=\"sk-label-container\"><div class=\"sk-label sk-toggleable\"><input class=\"sk-toggleable__control sk-hidden--visually\" id=\"sk-estimator-id-2\" type=\"checkbox\" ><label for=\"sk-estimator-id-2\" class=\"sk-toggleable__label sk-toggleable__label-arrow\">estimator: LassoRandomForestRegressor</label><div class=\"sk-toggleable__content\"><pre>LassoRandomForestRegressor()</pre></div></div></div><div class=\"sk-serial\"><div class=\"sk-item\"><div class=\"sk-estimator sk-toggleable\"><input class=\"sk-toggleable__control sk-hidden--visually\" id=\"sk-estimator-id-3\" type=\"checkbox\" ><label for=\"sk-estimator-id-3\" class=\"sk-toggleable__label sk-toggleable__label-arrow\">LassoRandomForestRegressor</label><div class=\"sk-toggleable__content\"><pre>LassoRandomForestRegressor()</pre></div></div></div></div></div></div></div></div></div></div>"
      ],
      "text/plain": [
       "GridSearchCV(estimator=LassoRandomForestRegressor(),\n",
       "             param_grid={'alpha': [0.1, 0.5, 1.0, 2.0, 5.0, 10],\n",
       "                         'max_iter': [10000],\n",
       "                         'n_estimators': [10, 20, 50, 100]},\n",
       "             verbose=1)"
      ]
     },
     "execution_count": 29,
     "metadata": {},
     "output_type": "execute_result"
    }
   ],
   "source": [
    "from sklearn.model_selection import GridSearchCV\n",
    "params = {'alpha': [0.1, 0.5, 1., 2., 5., 10],\n",
    "          'n_estimators': [10, 20, 50, 100],\n",
    "          'max_iter': [10000]\n",
    "         }\n",
    "grid = GridSearchCV(LassoRandomForestRegressor(),\n",
    "                    param_grid=params, verbose=1)\n",
    "grid.fit(X_train, y_train)"
   ]
  },
  {
   "cell_type": "code",
   "execution_count": 30,
   "metadata": {},
   "outputs": [
    {
     "data": {
      "text/plain": [
       "{'alpha': 10, 'max_iter': 10000, 'n_estimators': 100}"
      ]
     },
     "execution_count": 30,
     "metadata": {},
     "output_type": "execute_result"
    }
   ],
   "source": [
    "grid.best_params_"
   ]
  },
  {
   "cell_type": "code",
   "execution_count": 31,
   "metadata": {
    "scrolled": false
   },
   "outputs": [
    {
     "data": {
      "text/plain": [
       "0.44050616312634516"
      ]
     },
     "execution_count": 31,
     "metadata": {},
     "output_type": "execute_result"
    }
   ],
   "source": [
    "r2_score(y_test, grid.best_estimator_.predict(X_test))"
   ]
  },
  {
   "cell_type": "code",
   "execution_count": 32,
   "metadata": {},
   "outputs": [
    {
     "data": {
      "text/plain": [
       "63"
      ]
     },
     "execution_count": 32,
     "metadata": {},
     "output_type": "execute_result"
    }
   ],
   "source": [
    "sum(grid.best_estimator_.lasso_.coef_ == 0)"
   ]
  },
  {
   "cell_type": "markdown",
   "metadata": {},
   "source": [
    "On a réussi à supprimer 27 arbres."
   ]
  },
  {
   "cell_type": "markdown",
   "metadata": {},
   "source": [
    "## Optimisation mémoire\n",
    "\n",
    "Le modèle précédent n'est pas optimal dans le sens où il stocke en mémoire tous les arbres, mêmes ceux associés à un coefficient nuls après la régression Lasso alors que le calcul ne sert à rien puisque ignoré."
   ]
  },
  {
   "cell_type": "code",
   "execution_count": 33,
   "metadata": {},
   "outputs": [
    {
     "data": {
      "text/plain": [
       "0.4215129880168422"
      ]
     },
     "execution_count": 33,
     "metadata": {},
     "output_type": "execute_result"
    }
   ],
   "source": [
    "class OptimizedLassoRandomForestRegressor(BaseEstimator, RegressorMixin):\n",
    "    def __init__(self,\n",
    "                 # Lasso\n",
    "                 alpha=1.0, fit_intercept=True,\n",
    "                 precompute=False, copy_X=True, max_iter=1000,\n",
    "                 tol=1e-4, warm_start_lasso=False, positive=False,\n",
    "                 random_state=None, selection='cyclic',\n",
    "                 # RF \n",
    "                 n_estimators=100,\n",
    "                 criterion=\"squared_error\",\n",
    "                 max_depth=None,\n",
    "                 min_samples_split=2,\n",
    "                 min_samples_leaf=1,\n",
    "                 min_weight_fraction_leaf=0.,\n",
    "                 max_features=1.0,\n",
    "                 max_leaf_nodes=None,\n",
    "                 min_impurity_decrease=0.,\n",
    "                 bootstrap=True,\n",
    "                 oob_score=False,\n",
    "                 n_jobs=None,\n",
    "                 # random_state=None,\n",
    "                 verbose=0,\n",
    "                 warm_start_rf=False,\n",
    "                 ccp_alpha=0.0,\n",
    "                 max_samples=None):\n",
    "        \n",
    "        # Lasso\n",
    "        self.alpha = alpha\n",
    "        self.fit_intercept = fit_intercept\n",
    "        self.precompute = precompute\n",
    "        self.copy_X = copy_X\n",
    "        self.max_iter = max_iter\n",
    "        self.tol = tol\n",
    "        self.warm_start_lasso = warm_start_lasso\n",
    "        self.positive = positive\n",
    "        self.random_state = random_state\n",
    "        self.selection = selection\n",
    "        # RF \n",
    "        self.n_estimators = n_estimators\n",
    "        self.criterion = criterion\n",
    "        self.max_depth = max_depth\n",
    "        self.min_samples_split = min_samples_split\n",
    "        self.min_samples_leaf = min_samples_leaf\n",
    "        self.min_weight_fraction_leaf = min_weight_fraction_leaf\n",
    "        self.max_features = max_features\n",
    "        self.max_leaf_nodes = max_leaf_nodes\n",
    "        self.min_impurity_decrease = min_impurity_decrease\n",
    "        self.bootstrap = bootstrap\n",
    "        self.oob_score = oob_score\n",
    "        self.n_jobs = n_jobs\n",
    "        self.random_state = random_state\n",
    "        self.verbose = verbose\n",
    "        self.warm_start_rf = warm_start_rf\n",
    "        self.ccp_alpha = ccp_alpha\n",
    "        self.max_samples = max_samples\n",
    "\n",
    "    def _concatenate_prediction(self, X):\n",
    "        preds = []\n",
    "        for i in range(len(self.rf_.estimators_)):\n",
    "            pred = self.rf_.estimators_[i].predict(X)\n",
    "            preds.append(pred)\n",
    "        return numpy.vstack(preds).T        \n",
    "        \n",
    "    def fit(self, X, y, sample_weight=None):\n",
    "        \n",
    "        self.rf_ = RandomForestRegressor(\n",
    "            n_estimators=self.n_estimators, criterion=self.criterion,\n",
    "            max_depth=self.max_depth, min_samples_split=self.min_samples_split,\n",
    "            min_samples_leaf=self.min_samples_leaf,\n",
    "            min_weight_fraction_leaf=self.min_weight_fraction_leaf,\n",
    "            max_features=self.max_features, max_leaf_nodes=self.max_leaf_nodes,\n",
    "            min_impurity_decrease=self.min_impurity_decrease,\n",
    "            bootstrap=self.bootstrap,\n",
    "            oob_score=self.oob_score, n_jobs=self.n_jobs,\n",
    "            random_state=self.random_state, verbose=self.verbose,\n",
    "            warm_start=self.warm_start_rf, ccp_alpha=self.ccp_alpha,\n",
    "            max_samples=self.max_samples)\n",
    "        \n",
    "        self.rf_.fit(X, y, sample_weight=sample_weight)\n",
    "        X_rf = self._concatenate_prediction(X)\n",
    "        \n",
    "        self.lasso_ = Lasso(\n",
    "            alpha=self.alpha, max_iter=self.max_iter, fit_intercept=self.fit_intercept,\n",
    "            precompute=self.precompute, copy_X=self.copy_X,\n",
    "            tol=self.tol, warm_start=self.warm_start_lasso, positive=self.positive,\n",
    "            random_state=self.random_state, selection=self.selection)\n",
    "        \n",
    "        self.lasso_.fit(X_rf, y)\n",
    "        \n",
    "        # on ne garde que les arbres associées à des coefficients non nuls\n",
    "        self.coef_ = []\n",
    "        self.intercept_ = self.lasso_.intercept_\n",
    "        self.estimators_ = []\n",
    "        for i in range(len(self.rf_.estimators_)):\n",
    "            if self.lasso_.coef_[i] != 0:\n",
    "                self.estimators_.append(self.rf_.estimators_[i])\n",
    "                self.coef_.append(self.lasso_.coef_[i])\n",
    "        \n",
    "        self.coef_ = numpy.array(self.coef_)\n",
    "        del self.lasso_\n",
    "        del self.rf_        \n",
    "        return self\n",
    "    \n",
    "    def predict(self, X):\n",
    "        preds = []\n",
    "        for i in range(len(self.estimators_)):\n",
    "            pred = self.estimators_[i].predict(X)\n",
    "            preds.append(pred)\n",
    "        x_rf = numpy.vstack(preds).T \n",
    "    \n",
    "        return x_rf @ self.coef_ + self.intercept_\n",
    "\n",
    "model2 = OptimizedLassoRandomForestRegressor()\n",
    "model2.fit(X_train, y_train)\n",
    "pred = model2.predict(X_test)\n",
    "r2_score(y_test, pred)"
   ]
  },
  {
   "cell_type": "markdown",
   "metadata": {},
   "source": [
    "Le modèle produit bien les mêmes résultats. Vérifions que le nouveau modèle prend moins de place une fois enregistré sur le disque."
   ]
  },
  {
   "cell_type": "code",
   "execution_count": 34,
   "metadata": {},
   "outputs": [],
   "source": [
    "import pickle\n",
    "\n",
    "with open(\"optimzed_rf.pickle\", \"wb\") as f:\n",
    "    pickle.dump(model2, f)"
   ]
  },
  {
   "cell_type": "code",
   "execution_count": 35,
   "metadata": {},
   "outputs": [
    {
     "data": {
      "text/plain": [
       "0.4215129880168422"
      ]
     },
     "execution_count": 35,
     "metadata": {},
     "output_type": "execute_result"
    }
   ],
   "source": [
    "with open(\"optimzed_rf.pickle\", \"rb\") as f:\n",
    "    model2 = pickle.load(f)\n",
    "\n",
    "r2_score(y_test, model2.predict(X_test))"
   ]
  },
  {
   "cell_type": "code",
   "execution_count": 36,
   "metadata": {},
   "outputs": [],
   "source": [
    "with open(\"lasso_rf.pickle\", \"wb\") as f:\n",
    "    pickle.dump(model, f)"
   ]
  },
  {
   "cell_type": "code",
   "execution_count": 37,
   "metadata": {},
   "outputs": [
    {
     "data": {
      "text/plain": [
       "(1280263, 2665081)"
      ]
     },
     "execution_count": 37,
     "metadata": {},
     "output_type": "execute_result"
    }
   ],
   "source": [
    "import os\n",
    "os.stat(\"optimzed_rf.pickle\").st_size, os.stat(\"lasso_rf.pickle\").st_size"
   ]
  },
  {
   "cell_type": "markdown",
   "metadata": {},
   "source": [
    "C'est bien le cas."
   ]
  },
  {
   "cell_type": "code",
   "execution_count": null,
   "metadata": {},
   "outputs": [],
   "source": []
  },
  {
   "cell_type": "code",
   "execution_count": null,
   "metadata": {},
   "outputs": [],
   "source": []
  }
 ],
 "metadata": {
  "kernelspec": {
   "display_name": "Python 3 (ipykernel)",
   "language": "python",
   "name": "python3"
  },
  "language_info": {
   "codemirror_mode": {
    "name": "ipython",
    "version": 3
   },
   "file_extension": ".py",
   "mimetype": "text/x-python",
   "name": "python",
   "nbconvert_exporter": "python",
   "pygments_lexer": "ipython3",
   "version": "3.10.5"
  }
 },
 "nbformat": 4,
 "nbformat_minor": 2
}
